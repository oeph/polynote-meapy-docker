{
  "metadata": {
    "config": {
      "dependencies": {},
      "exclusions": [],
      "repositories": [],
      "env": {}
    },
    "language_info": {
      "name": "python"
    }
  },
  "nbformat": 4,
  "nbformat_minor": 0,
  "cells": [
    {
      "cell_type": "code",
      "execution_count": null,
      "metadata": {
        "language": "python"
      },
      "language": "python",
      "source": [
        "from meapy import MeaPy, MeasurementList, LoadingConfig\r\n",
        "import pandas as pd\r\n",
        "import json\r\n",
        "\r\n",
        "mp = MeaPy(\"https://madam-instance.kistler.com/\", \"Basic xyz123\")\r\n",
        "\r\n",
        "result = mp.search(\"Type=Test\", limit=1)\r\n",
        "\r\n",
        "print(json.dumps(result[0].getDocument(), indent=4))"
      ],
      "outputs": []
    },
    {
      "cell_type": "code",
      "execution_count": null,
      "metadata": {
        "cell.metadata.exec_info": {
        },
        "language": "python"
      },
      "language": "python",
      "source": [
        "config = LoadingConfig()\r\n",
        "\r\n",
        "config.withSignals([\r\n",
        "    'time',\r\n",
        "    'some-channel'\r\n",
        "])\r\n",
        "\r\n",
        "signals = mp.load(result[0], config)\r\n",
        "\r\n",
        "d = {}\r\n",
        "for s in signals:\r\n",
        "    d[s.getName()] = pd.Series(s.getValues(), index=s.getXValues())\r\n",
        "\r\n",
        "frame = pd.DataFrame(d)"
      ],
      "outputs": []
    },
    {
      "cell_type": "code",
      "execution_count": null,
      "metadata": {
        "cell.metadata.exec_info": {
        },
        "language": "python"
      },
      "language": "python",
      "source": [
        "frame.head()"
      ],
      "outputs": []
    }
  ]
}